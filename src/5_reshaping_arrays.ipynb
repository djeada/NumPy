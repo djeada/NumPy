{
 "cells": [
  {
   "cell_type": "code",
   "execution_count": 1,
   "id": "89bf445b",
   "metadata": {},
   "outputs": [],
   "source": [
    "import numpy as np"
   ]
  },
  {
   "cell_type": "code",
   "execution_count": 2,
   "id": "1446a179",
   "metadata": {},
   "outputs": [
    {
     "name": "stdout",
     "output_type": "stream",
     "text": [
      "[[ 3  9]\n",
      " [21 -3]]\n",
      "\n"
     ]
    }
   ],
   "source": [
    "matrix = np.array([[3, 9], [21, -3]])\n",
    "print(matrix)\n",
    "print()"
   ]
  },
  {
   "cell_type": "code",
   "execution_count": 3,
   "id": "b127183f",
   "metadata": {},
   "outputs": [
    {
     "name": "stdout",
     "output_type": "stream",
     "text": [
      "[ 3  9 21 -3]\n",
      "\n"
     ]
    }
   ],
   "source": [
    "reshaped_matrix = np.reshape(matrix, (4,))\n",
    "print(reshaped_matrix)\n",
    "print()"
   ]
  },
  {
   "cell_type": "code",
   "execution_count": 4,
   "id": "91e740d4",
   "metadata": {},
   "outputs": [
    {
     "name": "stdout",
     "output_type": "stream",
     "text": [
      "[[ 3  9 21 -3]]\n",
      "\n"
     ]
    }
   ],
   "source": [
    "reshaped_matrix = np.reshape(matrix, (1, 4))\n",
    "print(reshaped_matrix)\n",
    "print()"
   ]
  },
  {
   "cell_type": "code",
   "execution_count": 5,
   "id": "52e4afed",
   "metadata": {},
   "outputs": [
    {
     "name": "stdout",
     "output_type": "stream",
     "text": [
      "[[ 3]\n",
      " [ 9]\n",
      " [21]\n",
      " [-3]]\n",
      "\n"
     ]
    }
   ],
   "source": [
    "reshaped_matrix = np.reshape(matrix, (4, 1))\n",
    "print(reshaped_matrix)\n",
    "print()"
   ]
  },
  {
   "cell_type": "code",
   "execution_count": 6,
   "id": "a0ee9ddb",
   "metadata": {},
   "outputs": [
    {
     "name": "stdout",
     "output_type": "stream",
     "text": [
      "[[[ 3]\n",
      "  [ 9]\n",
      "  [21]\n",
      "  [-3]]]\n",
      "\n"
     ]
    }
   ],
   "source": [
    "reshaped_matrix = np.reshape(matrix, (1, 4, 1))\n",
    "print(reshaped_matrix)\n",
    "print()"
   ]
  },
  {
   "cell_type": "code",
   "execution_count": 7,
   "id": "d1417c55",
   "metadata": {},
   "outputs": [
    {
     "name": "stdout",
     "output_type": "stream",
     "text": [
      "[[ 3 21]\n",
      " [ 9 -3]]\n",
      "\n"
     ]
    }
   ],
   "source": [
    "result = np.swapaxes(matrix, 0, 1)\n",
    "print(result)\n",
    "print()"
   ]
  },
  {
   "cell_type": "code",
   "execution_count": 8,
   "id": "34fb3a22",
   "metadata": {},
   "outputs": [
    {
     "name": "stdout",
     "output_type": "stream",
     "text": [
      "[[ 3 21]\n",
      " [ 9 -3]]\n",
      "\n"
     ]
    }
   ],
   "source": [
    "result = np.swapaxes(matrix, 1, 0)\n",
    "print(result)\n",
    "print()"
   ]
  },
  {
   "cell_type": "code",
   "execution_count": 9,
   "id": "fae02bd3",
   "metadata": {},
   "outputs": [
    {
     "name": "stdout",
     "output_type": "stream",
     "text": [
      "[[ 3  9]\n",
      " [21 -3]]\n",
      "\n"
     ]
    }
   ],
   "source": [
    "result = np.rollaxis(matrix, 0)\n",
    "print(result)\n",
    "print()"
   ]
  },
  {
   "cell_type": "code",
   "execution_count": 10,
   "id": "eecb97ac",
   "metadata": {},
   "outputs": [
    {
     "name": "stdout",
     "output_type": "stream",
     "text": [
      "[[ 3 21]\n",
      " [ 9 -3]]\n",
      "\n"
     ]
    }
   ],
   "source": [
    "result = np.rollaxis(matrix, 1)\n",
    "print(result)\n",
    "print()"
   ]
  },
  {
   "cell_type": "code",
   "execution_count": 11,
   "id": "1021cc87",
   "metadata": {},
   "outputs": [
    {
     "name": "stdout",
     "output_type": "stream",
     "text": [
      "[[[ 1  0]\n",
      "  [ 2 -1]]\n",
      "\n",
      " [[-3  2]\n",
      "  [ 7  5]]]\n",
      "\n"
     ]
    }
   ],
   "source": [
    "tensor = np.array([[[1, 0], [2, -1]], [[-3, 2], [7, 5]]])\n",
    "print(tensor)\n",
    "print()"
   ]
  },
  {
   "cell_type": "code",
   "execution_count": 12,
   "id": "bdb22a13",
   "metadata": {},
   "outputs": [
    {
     "name": "stdout",
     "output_type": "stream",
     "text": [
      "[[[ 1  0]\n",
      "  [-3  2]]\n",
      "\n",
      " [[ 2 -1]\n",
      "  [ 7  5]]]\n",
      "\n"
     ]
    }
   ],
   "source": [
    "result = np.swapaxes(tensor, 0, 1)\n",
    "print(result)\n",
    "print()"
   ]
  },
  {
   "cell_type": "code",
   "execution_count": 13,
   "id": "c8cb8b8e",
   "metadata": {},
   "outputs": [
    {
     "name": "stdout",
     "output_type": "stream",
     "text": [
      "[[[ 1 -3]\n",
      "  [ 2  7]]\n",
      "\n",
      " [[ 0  2]\n",
      "  [-1  5]]]\n",
      "\n"
     ]
    }
   ],
   "source": [
    "result = np.swapaxes(tensor, 0, 2)\n",
    "print(result)\n",
    "print()"
   ]
  },
  {
   "cell_type": "code",
   "execution_count": 14,
   "id": "bb597713",
   "metadata": {},
   "outputs": [
    {
     "name": "stdout",
     "output_type": "stream",
     "text": [
      "[[[ 1  2]\n",
      "  [ 0 -1]]\n",
      "\n",
      " [[-3  7]\n",
      "  [ 2  5]]]\n",
      "\n"
     ]
    }
   ],
   "source": [
    "result = np.swapaxes(tensor, 1, 2)\n",
    "print(result)\n",
    "print()"
   ]
  },
  {
   "cell_type": "code",
   "execution_count": 15,
   "id": "87d09576",
   "metadata": {},
   "outputs": [
    {
     "name": "stdout",
     "output_type": "stream",
     "text": [
      "[[[ 1  0]\n",
      "  [-3  2]]\n",
      "\n",
      " [[ 2 -1]\n",
      "  [ 7  5]]]\n",
      "\n"
     ]
    }
   ],
   "source": [
    "result = np.rollaxis(tensor, 1)\n",
    "print(result)\n",
    "print()"
   ]
  },
  {
   "cell_type": "code",
   "execution_count": 16,
   "id": "20a063ce",
   "metadata": {},
   "outputs": [
    {
     "name": "stdout",
     "output_type": "stream",
     "text": [
      "[[[ 1  2]\n",
      "  [-3  7]]\n",
      "\n",
      " [[ 0 -1]\n",
      "  [ 2  5]]]\n",
      "\n"
     ]
    }
   ],
   "source": [
    "result = np.rollaxis(tensor, 2)\n",
    "print(result)\n",
    "print()"
   ]
  },
  {
   "cell_type": "code",
   "execution_count": 17,
   "id": "9cd6e8ca",
   "metadata": {},
   "outputs": [
    {
     "name": "stdout",
     "output_type": "stream",
     "text": [
      "[[ 9  3]\n",
      " [-3 21]]\n",
      "\n",
      "[[21 -3]\n",
      " [ 3  9]]\n",
      "\n"
     ]
    }
   ],
   "source": [
    "result = np.fliplr(matrix)\n",
    "print(result)\n",
    "print()\n",
    "\n",
    "result = np.flipud(matrix)\n",
    "print(result)\n",
    "print()"
   ]
  },
  {
   "cell_type": "code",
   "execution_count": 18,
   "id": "877819c7",
   "metadata": {},
   "outputs": [
    {
     "name": "stdout",
     "output_type": "stream",
     "text": [
      "[[ 9 21]\n",
      " [-3  3]]\n",
      "\n",
      "[[-3  3]\n",
      " [ 9 21]]\n",
      "\n"
     ]
    }
   ],
   "source": [
    "result = np.roll(matrix, -1)\n",
    "print(result)\n",
    "print()\n",
    "\n",
    "result = np.roll(matrix, 1)\n",
    "print(result)\n",
    "print()"
   ]
  },
  {
   "cell_type": "code",
   "execution_count": 19,
   "id": "97051b1a",
   "metadata": {},
   "outputs": [
    {
     "name": "stdout",
     "output_type": "stream",
     "text": [
      "[[ 9 -3]\n",
      " [ 3 21]]\n",
      "\n"
     ]
    }
   ],
   "source": [
    "result = np.rot90(matrix)\n",
    "print(result)\n",
    "print()"
   ]
  }
 ],
 "metadata": {
  "kernelspec": {
   "display_name": "Python 3 (ipykernel)",
   "language": "python",
   "name": "python3"
  },
  "language_info": {
   "codemirror_mode": {
    "name": "ipython",
    "version": 3
   },
   "file_extension": ".py",
   "mimetype": "text/x-python",
   "name": "python",
   "nbconvert_exporter": "python",
   "pygments_lexer": "ipython3",
   "version": "3.10.6"
  }
 },
 "nbformat": 4,
 "nbformat_minor": 5
}
