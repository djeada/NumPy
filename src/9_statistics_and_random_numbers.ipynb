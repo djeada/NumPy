{
 "cells": [
  {
   "cell_type": "code",
   "execution_count": 1,
   "id": "04233dc2",
   "metadata": {},
   "outputs": [],
   "source": [
    "import numpy as np"
   ]
  },
  {
   "cell_type": "code",
   "execution_count": 2,
   "id": "00602877",
   "metadata": {},
   "outputs": [
    {
     "name": "stdout",
     "output_type": "stream",
     "text": [
      "Random floats between 0 and 1:\n",
      "[0.80432267 0.40333087 0.84736479 0.58867206 0.9747926 ]\n"
     ]
    }
   ],
   "source": [
    "array = np.random.rand(5)\n",
    "print(\"Random floats between 0 and 1:\")\n",
    "print(array)"
   ]
  },
  {
   "cell_type": "code",
   "execution_count": 3,
   "id": "d555477c",
   "metadata": {},
   "outputs": [
    {
     "name": "stdout",
     "output_type": "stream",
     "text": [
      "Random floats between 0 and 1:\n",
      "Array shape: 6,3\n",
      "[[0.86418048 0.96456329 0.05572784]\n",
      " [0.22103275 0.52069286 0.66488189]\n",
      " [0.31710385 0.70213041 0.01562073]\n",
      " [0.69482453 0.63363265 0.33663013]\n",
      " [0.37562011 0.7354865  0.1524171 ]\n",
      " [0.91927342 0.64574649 0.66919112]]\n"
     ]
    }
   ],
   "source": [
    "array = np.random.rand(6, 3)\n",
    "print(\"Random floats between 0 and 1:\")\n",
    "print(\"Array shape: 6,3\")\n",
    "print(array)"
   ]
  },
  {
   "cell_type": "code",
   "execution_count": 4,
   "id": "76fe8bea",
   "metadata": {},
   "outputs": [
    {
     "name": "stdout",
     "output_type": "stream",
     "text": [
      "Single random int between 0 and 9:\n",
      "1\n"
     ]
    }
   ],
   "source": [
    "print(\"Single random int between 0 and 9:\")\n",
    "print(np.random.randint(10))"
   ]
  },
  {
   "cell_type": "code",
   "execution_count": 5,
   "id": "d02f57f4",
   "metadata": {},
   "outputs": [
    {
     "name": "stdout",
     "output_type": "stream",
     "text": [
      "Random ints between 5 and 25:\n",
      "Array shape: 6,3\n",
      "[[23 18  8]\n",
      " [10 21 18]\n",
      " [ 9 12 18]\n",
      " [20 14 10]\n",
      " [ 5 11 14]\n",
      " [10 21 11]]\n"
     ]
    }
   ],
   "source": [
    "array = np.random.randint(5, 25, size=(6, 3))\n",
    "print(\"Random ints between 5 and 25:\")\n",
    "print(\"Array shape: 6,3\")\n",
    "print(array)"
   ]
  },
  {
   "cell_type": "code",
   "execution_count": 6,
   "id": "14ea7800",
   "metadata": {},
   "outputs": [
    {
     "name": "stdout",
     "output_type": "stream",
     "text": [
      "Single float int between 0 and 9:\n",
      "4.5492127535630775\n"
     ]
    }
   ],
   "source": [
    "array = np.random.uniform(10)\n",
    "print(\"Single float int between 0 and 9:\")\n",
    "print(array)"
   ]
  },
  {
   "cell_type": "code",
   "execution_count": 7,
   "id": "fa1268fa",
   "metadata": {},
   "outputs": [
    {
     "name": "stdout",
     "output_type": "stream",
     "text": [
      "Random floats between 5 and 25:\n",
      "Array shape: 6,3\n",
      "[[12.4412726  24.32123325 19.38413227]\n",
      " [23.06782747 19.20185794 19.22057492]\n",
      " [21.60607994 14.51520617 14.32752104]\n",
      " [ 5.04144094 18.75984698 13.47717004]\n",
      " [22.94532892  5.75521177  5.09650704]\n",
      " [ 7.19522197 21.50436022 17.72969695]]\n"
     ]
    }
   ],
   "source": [
    "array = np.random.uniform(5, 25, size=(6, 3))\n",
    "print(\"Random floats between 5 and 25:\")\n",
    "print(\"Array shape: 6,3\")\n",
    "print(array)"
   ]
  }
 ],
 "metadata": {
  "kernelspec": {
   "display_name": "Python 3 (ipykernel)",
   "language": "python",
   "name": "python3"
  },
  "language_info": {
   "codemirror_mode": {
    "name": "ipython",
    "version": 3
   },
   "file_extension": ".py",
   "mimetype": "text/x-python",
   "name": "python",
   "nbconvert_exporter": "python",
   "pygments_lexer": "ipython3",
   "version": "3.10.6"
  }
 },
 "nbformat": 4,
 "nbformat_minor": 5
}
