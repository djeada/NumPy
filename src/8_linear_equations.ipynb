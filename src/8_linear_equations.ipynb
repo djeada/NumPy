{
 "cells": [
  {
   "cell_type": "code",
   "execution_count": 1,
   "id": "dbe4c489",
   "metadata": {},
   "outputs": [],
   "source": [
    "import numpy as np\n",
    "from numpy.linalg import solve"
   ]
  },
  {
   "cell_type": "code",
   "execution_count": 2,
   "id": "15e074fb",
   "metadata": {},
   "outputs": [
    {
     "name": "stdout",
     "output_type": "stream",
     "text": [
      "[[ 0.65217391]\n",
      " [-0.2173913 ]\n",
      " [ 1.73913043]]\n"
     ]
    }
   ],
   "source": [
    "matrix = np.matrix([[2, 0, 5], [3, 4, 8], [2, 7, 3]])\n",
    "inverse = matrix.I\n",
    "\n",
    "y = np.matrix([[10], [15], [5]])\n",
    "\n",
    "solution = inverse * y\n",
    "print(solution)"
   ]
  }
 ],
 "metadata": {
  "kernelspec": {
   "display_name": "Python 3 (ipykernel)",
   "language": "python",
   "name": "python3"
  },
  "language_info": {
   "codemirror_mode": {
    "name": "ipython",
    "version": 3
   },
   "file_extension": ".py",
   "mimetype": "text/x-python",
   "name": "python",
   "nbconvert_exporter": "python",
   "pygments_lexer": "ipython3",
   "version": "3.10.6"
  }
 },
 "nbformat": 4,
 "nbformat_minor": 5
}
