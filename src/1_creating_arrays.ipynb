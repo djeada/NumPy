{
 "cells": [
  {
   "cell_type": "code",
   "execution_count": 1,
   "id": "83c41e77",
   "metadata": {},
   "outputs": [],
   "source": [
    "import numpy as np"
   ]
  },
  {
   "cell_type": "code",
   "execution_count": 2,
   "id": "eea73e97",
   "metadata": {},
   "outputs": [
    {
     "name": "stdout",
     "output_type": "stream",
     "text": [
      "[ 0  9 -3  5  4]\n",
      "\n"
     ]
    }
   ],
   "source": [
    "# creating an array from 1D list\n",
    "list_1D = [0, 9, -3, 5, 4]\n",
    "array_a = np.array(list_1D)\n",
    "print(array_a)\n",
    "print()"
   ]
  },
  {
   "cell_type": "code",
   "execution_count": 3,
   "id": "2fe46fb5",
   "metadata": {},
   "outputs": [
    {
     "name": "stdout",
     "output_type": "stream",
     "text": [
      "[ 0  9 -3  5  4]\n",
      "\n"
     ]
    }
   ],
   "source": [
    "# creating an array from 1D tupple\n",
    "tuple_1D = (0, 9, -3, 5, 4)\n",
    "array_b = np.array(tuple_1D)\n",
    "print(array_b)\n",
    "print()"
   ]
  },
  {
   "cell_type": "code",
   "execution_count": 4,
   "id": "ac07cf94",
   "metadata": {},
   "outputs": [
    {
     "name": "stdout",
     "output_type": "stream",
     "text": [
      "False\n",
      "[ True  True  True  True  True]\n",
      "True\n"
     ]
    }
   ],
   "source": [
    "# soruces are not equal to each other\n",
    "# but resulting array are\n",
    "print(list_1D == tuple_1D)\n",
    "print(array_a == array_b)\n",
    "print((array_a == array_b).all())"
   ]
  },
  {
   "cell_type": "code",
   "execution_count": 5,
   "id": "2a2ac4b9",
   "metadata": {},
   "outputs": [
    {
     "name": "stdout",
     "output_type": "stream",
     "text": [
      "(5,)\n",
      "1\n",
      "5\n",
      "int64\n"
     ]
    }
   ],
   "source": [
    "# basic info\n",
    "print(array_a.shape)\n",
    "print(array_a.ndim)\n",
    "print(array_a.size)\n",
    "print(array_a.dtype)"
   ]
  },
  {
   "cell_type": "code",
   "execution_count": 6,
   "id": "a9930a2b",
   "metadata": {},
   "outputs": [
    {
     "name": "stdout",
     "output_type": "stream",
     "text": [
      "[[1 2 3]\n",
      " [4 5 6]]\n",
      "\n"
     ]
    }
   ],
   "source": [
    "# creating an array from 2D list\n",
    "list_2D = [[1, 2, 3], [4, 5, 6]]\n",
    "matrix = np.array(list_2D)\n",
    "print(matrix)\n",
    "print()"
   ]
  },
  {
   "cell_type": "code",
   "execution_count": 7,
   "id": "5083458f",
   "metadata": {},
   "outputs": [
    {
     "name": "stdout",
     "output_type": "stream",
     "text": [
      "(2, 3)\n",
      "2\n",
      "6\n",
      "int64\n"
     ]
    }
   ],
   "source": [
    "# basic info\n",
    "print(matrix.shape)\n",
    "print(matrix.ndim)\n",
    "print(matrix.size)\n",
    "print(matrix.dtype)"
   ]
  },
  {
   "cell_type": "code",
   "execution_count": 8,
   "id": "f1f84a21",
   "metadata": {},
   "outputs": [
    {
     "name": "stdout",
     "output_type": "stream",
     "text": [
      "[[[1 2 3]\n",
      "  [4 5 6]\n",
      "  [7 8 9]]\n",
      "\n",
      " [[1 2 3]\n",
      "  [4 5 6]\n",
      "  [7 8 9]]\n",
      "\n",
      " [[1 2 3]\n",
      "  [4 5 6]\n",
      "  [7 8 9]]]\n",
      "\n"
     ]
    }
   ],
   "source": [
    "list_3D = [\n",
    "    [[1, 2, 3], [4, 5, 6], [7, 8, 9]],\n",
    "    [[1, 2, 3], [4, 5, 6], [7, 8, 9]],\n",
    "    [[1, 2, 3], [4, 5, 6], [7, 8, 9]],\n",
    "]\n",
    "\n",
    "tensor = np.array(list_3D)\n",
    "print(tensor)\n",
    "print()"
   ]
  },
  {
   "cell_type": "code",
   "execution_count": 9,
   "id": "cc1ae6a2",
   "metadata": {},
   "outputs": [
    {
     "name": "stdout",
     "output_type": "stream",
     "text": [
      "(3, 3, 3)\n",
      "3\n",
      "27\n",
      "int64\n"
     ]
    }
   ],
   "source": [
    "# basic info\n",
    "print(tensor.shape)\n",
    "print(tensor.ndim)\n",
    "print(tensor.size)\n",
    "print(tensor.dtype)"
   ]
  },
  {
   "cell_type": "code",
   "execution_count": 10,
   "id": "eb4e0954",
   "metadata": {},
   "outputs": [
    {
     "name": "stdout",
     "output_type": "stream",
     "text": [
      "[0 1 2]\n",
      "\n",
      "[3 4 5]\n",
      "\n",
      "[0 3 6]\n",
      "\n"
     ]
    }
   ],
   "source": [
    "# np.arange(start, end, step) creates an array of ints from start to end with step differece between each element\n",
    "array = np.arange(3)\n",
    "print(array)\n",
    "print()\n",
    "array = np.arange(3, 6)\n",
    "print(array)\n",
    "print()\n",
    "array = np.arange(0, 9, 3)\n",
    "print(array)\n",
    "print()"
   ]
  },
  {
   "cell_type": "code",
   "execution_count": 11,
   "id": "7b511219",
   "metadata": {},
   "outputs": [
    {
     "name": "stdout",
     "output_type": "stream",
     "text": [
      "[ 0.   2.5  5.   7.5 10. ]\n",
      "\n"
     ]
    }
   ],
   "source": [
    "# np.linspace(start, end, n) creates an array of n doubles from start to end\n",
    "array = np.linspace(0, 10, 5)\n",
    "print(array)\n",
    "print()"
   ]
  },
  {
   "cell_type": "code",
   "execution_count": 12,
   "id": "84769a7a",
   "metadata": {},
   "outputs": [
    {
     "name": "stdout",
     "output_type": "stream",
     "text": [
      "[0. 0. 0. 0. 0.]\n",
      "\n",
      "[[0. 0.]\n",
      " [0. 0.]\n",
      " [0. 0.]]\n",
      "\n"
     ]
    }
   ],
   "source": [
    "# np.zeros(shape, dtype=float) creates an array of 0's stored as dtype of specified shape\n",
    "array = np.zeros(5)\n",
    "print(array)\n",
    "print()\n",
    "\n",
    "matrix = np.zeros((3, 2))\n",
    "print(matrix)\n",
    "print()"
   ]
  },
  {
   "cell_type": "code",
   "execution_count": 13,
   "id": "754dfe9e",
   "metadata": {},
   "outputs": [
    {
     "name": "stdout",
     "output_type": "stream",
     "text": [
      "[1. 1. 1. 1. 1.]\n",
      "\n",
      "[[1. 1.]\n",
      " [1. 1.]\n",
      " [1. 1.]]\n",
      "\n"
     ]
    }
   ],
   "source": [
    "# np.ones(shape, dtype=float) creates an array of 1's stored as dtype of specified shape\n",
    "array = np.ones(5)\n",
    "print(array)\n",
    "print()\n",
    "\n",
    "matrix = np.ones((3, 2))\n",
    "print(matrix)\n",
    "print()"
   ]
  },
  {
   "cell_type": "code",
   "execution_count": 16,
   "id": "eb07d9a9",
   "metadata": {},
   "outputs": [
    {
     "name": "stdout",
     "output_type": "stream",
     "text": [
      "[2 2 2]\n",
      "\n"
     ]
    }
   ],
   "source": [
    "# np.full(n, a) creates an array with number a repeated n times\n",
    "array = np.full(7, 2)\n",
    "print(array)\n",
    "print()"
   ]
  },
  {
   "cell_type": "code",
   "execution_count": 14,
   "id": "837e331b",
   "metadata": {},
   "outputs": [
    {
     "name": "stdout",
     "output_type": "stream",
     "text": [
      "[[1. 0. 0.]\n",
      " [0. 1. 0.]\n",
      " [0. 0. 1.]]\n",
      "\n"
     ]
    }
   ],
   "source": [
    "# np.eye(n, dtype=float) creates an identity matrix of size n x n\n",
    "matrix = np.eye(3)\n",
    "print(matrix)\n",
    "print()"
   ]
  },
  {
   "cell_type": "code",
   "execution_count": 15,
   "id": "d0ed61dc",
   "metadata": {},
   "outputs": [
    {
     "name": "stdout",
     "output_type": "stream",
     "text": [
      "[0.85179443 0.65891453 0.98849468 0.59535658 0.97572327]\n",
      "\n",
      "[[0.62555506 0.17981102]\n",
      " [0.73484057 0.84901349]\n",
      " [0.85113686 0.63310165]]\n",
      "\n"
     ]
    }
   ],
   "source": [
    "# np.random.rand(shape) creates an array of random numbers stored as floats of specified shape\n",
    "array = np.random.rand(5)\n",
    "print(array)\n",
    "print()\n",
    "\n",
    "matrix = np.random.rand(*(3, 2))\n",
    "print(matrix)\n",
    "print()"
   ]
  }
 ],
 "metadata": {
  "kernelspec": {
   "display_name": "Python 3 (ipykernel)",
   "language": "python",
   "name": "python3"
  },
  "language_info": {
   "codemirror_mode": {
    "name": "ipython",
    "version": 3
   },
   "file_extension": ".py",
   "mimetype": "text/x-python",
   "name": "python",
   "nbconvert_exporter": "python",
   "pygments_lexer": "ipython3",
   "version": "3.10.6"
  }
 },
 "nbformat": 4,
 "nbformat_minor": 5
}
