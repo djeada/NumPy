{
 "cells": [
  {
   "cell_type": "code",
   "execution_count": 1,
   "id": "43454aba",
   "metadata": {},
   "outputs": [],
   "source": [
    "import numpy as np"
   ]
  },
  {
   "cell_type": "code",
   "execution_count": 2,
   "id": "1c236de8",
   "metadata": {},
   "outputs": [
    {
     "name": "stdout",
     "output_type": "stream",
     "text": [
      "[[ 8 14]\n",
      " [26  2]]\n",
      "\n",
      "[[ 2  8]\n",
      " [20 -4]]\n",
      "\n",
      "[[ 6 18]\n",
      " [42 -6]]\n",
      "\n",
      "[[ 1.  3.]\n",
      " [ 7. -1.]]\n",
      "\n"
     ]
    }
   ],
   "source": [
    "# addition, subtraction, multiplication, division by scalar\n",
    "matrix = np.array([[3, 9], [21, -3]])\n",
    "\n",
    "sum_result = matrix + 5\n",
    "print(sum_result)\n",
    "print()\n",
    "\n",
    "diff_result = matrix - 1\n",
    "print(diff_result)\n",
    "print()\n",
    "\n",
    "mult_result = matrix * 2\n",
    "print(mult_result)\n",
    "print()\n",
    "\n",
    "div_result = matrix / 3\n",
    "print(div_result)\n",
    "print()"
   ]
  },
  {
   "cell_type": "code",
   "execution_count": 3,
   "id": "43b7b9b5",
   "metadata": {},
   "outputs": [
    {
     "name": "stdout",
     "output_type": "stream",
     "text": [
      "[[ 4 11]\n",
      " [22 -1]]\n",
      "\n",
      "[[ 2  7]\n",
      " [20 -5]]\n",
      "\n",
      "[[ 3 18]\n",
      " [21 -6]]\n",
      "\n",
      "[[ 3.   4.5]\n",
      " [21.  -1.5]]\n",
      "\n"
     ]
    }
   ],
   "source": [
    "# addition, subtraction, multiplication, division by vector\n",
    "vector = np.array([1, 2])\n",
    "\n",
    "sum_result = matrix + vector\n",
    "print(sum_result)\n",
    "print()\n",
    "\n",
    "diff_result = matrix - vector\n",
    "print(diff_result)\n",
    "print()\n",
    "\n",
    "mult_result = matrix * vector\n",
    "print(mult_result)\n",
    "print()\n",
    "\n",
    "div_result = matrix / vector\n",
    "print(div_result)\n",
    "print()"
   ]
  },
  {
   "cell_type": "code",
   "execution_count": 4,
   "id": "919778bf",
   "metadata": {},
   "outputs": [
    {
     "name": "stdout",
     "output_type": "stream",
     "text": [
      "[[ 7 18]\n",
      " [46 13]]\n",
      "\n",
      "[[ -1   0]\n",
      " [ -4 -19]]\n",
      "\n",
      "[[ 12  81]\n",
      " [525 -48]]\n",
      "\n",
      "[[ 1.33333333  1.        ]\n",
      " [ 1.19047619 -5.33333333]]\n",
      "\n"
     ]
    }
   ],
   "source": [
    "# addition, subtraction, multiplication, division by matrix\n",
    "matrix_b = np.array([[4, 9], [25, 16]])\n",
    "\n",
    "sum_result = matrix + matrix_b\n",
    "print(sum_result)\n",
    "print()\n",
    "\n",
    "diff_result = matrix - matrix_b\n",
    "print(diff_result)\n",
    "print()\n",
    "\n",
    "mult_result = matrix * matrix_b\n",
    "print(mult_result)\n",
    "print()\n",
    "\n",
    "div_result = matrix_b / matrix\n",
    "print(div_result)\n",
    "print()"
   ]
  },
  {
   "cell_type": "code",
   "execution_count": 5,
   "id": "c1d6a371",
   "metadata": {},
   "outputs": [
    {
     "name": "stdout",
     "output_type": "stream",
     "text": [
      "[[ 3 21]\n",
      " [ 9 -3]]\n",
      "\n",
      "[[ 4 25]\n",
      " [ 9 16]]\n",
      "\n"
     ]
    }
   ],
   "source": [
    "# transpose\n",
    "transpose_a = np.transpose(matrix)\n",
    "print(transpose_a)\n",
    "print()\n",
    "\n",
    "transpose_b = np.transpose(matrix_b)\n",
    "print(transpose_b)\n",
    "print()"
   ]
  },
  {
   "cell_type": "code",
   "execution_count": 6,
   "id": "539496ad",
   "metadata": {},
   "outputs": [
    {
     "name": "stdout",
     "output_type": "stream",
     "text": [
      "-198.0\n",
      "\n"
     ]
    }
   ],
   "source": [
    "# determinant\n",
    "determinant = np.linalg.det(matrix)\n",
    "print(determinant)\n",
    "print()"
   ]
  },
  {
   "cell_type": "code",
   "execution_count": 7,
   "id": "058e3875",
   "metadata": {},
   "outputs": [
    {
     "name": "stdout",
     "output_type": "stream",
     "text": [
      "The rank of the matrix: 2\n"
     ]
    }
   ],
   "source": [
    "# rank\n",
    "rank = np.linalg.matrix_rank(matrix)\n",
    "print(f\"The rank of the matrix: {rank}\")"
   ]
  },
  {
   "cell_type": "code",
   "execution_count": 8,
   "id": "e73f1ad0",
   "metadata": {},
   "outputs": [
    {
     "name": "stdout",
     "output_type": "stream",
     "text": [
      "The inveres of the matrix\n",
      "[[ 0.01515152  0.04545455]\n",
      " [ 0.10606061 -0.01515152]]\n",
      "\n",
      "The dot product of the matrix and its inverse.\n",
      "[[1 0]\n",
      " [0 1]]\n",
      "\n"
     ]
    }
   ],
   "source": [
    "# inverse\n",
    "inverse = np.linalg.inv(matrix)\n",
    "print(\"The inveres of the matrix\")\n",
    "print(inverse)\n",
    "print()\n",
    "\n",
    "product = np.dot(matrix, inverse)\n",
    "print(\"The dot product of the matrix and its inverse.\")\n",
    "print(product.astype(int))\n",
    "print()"
   ]
  },
  {
   "cell_type": "code",
   "execution_count": 9,
   "id": "778f52e1",
   "metadata": {},
   "outputs": [
    {
     "name": "stdout",
     "output_type": "stream",
     "text": [
      "0.5555555555555556\n"
     ]
    }
   ],
   "source": [
    "# sparsity\n",
    "def count_sparsity(matrix):\n",
    "    temp = np.nan_to_num(matrix, 0)\n",
    "    sparsity = 1.0 - (np.count_nonzero(temp) / temp.size)\n",
    "    return sparsity\n",
    "\n",
    "\n",
    "matrix = np.array([[1, 1, 0, 1, 0, 0], [1, 0, 2, 0, 0, 1], [99, 0, 0, 2, 0, 0]])\n",
    "\n",
    "sparsity = count_sparsity(matrix)\n",
    "print(sparsity)"
   ]
  }
 ],
 "metadata": {
  "kernelspec": {
   "display_name": "Python 3 (ipykernel)",
   "language": "python",
   "name": "python3"
  },
  "language_info": {
   "codemirror_mode": {
    "name": "ipython",
    "version": 3
   },
   "file_extension": ".py",
   "mimetype": "text/x-python",
   "name": "python",
   "nbconvert_exporter": "python",
   "pygments_lexer": "ipython3",
   "version": "3.10.6"
  }
 },
 "nbformat": 4,
 "nbformat_minor": 5
}
