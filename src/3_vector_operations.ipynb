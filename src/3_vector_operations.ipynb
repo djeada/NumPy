{
 "cells": [
  {
   "cell_type": "code",
   "execution_count": 1,
   "id": "23577630",
   "metadata": {},
   "outputs": [],
   "source": [
    "import numpy as np"
   ]
  },
  {
   "cell_type": "code",
   "execution_count": 2,
   "id": "d492e72d",
   "metadata": {},
   "outputs": [
    {
     "name": "stdout",
     "output_type": "stream",
     "text": [
      "[[1 2 3 4]]\n",
      "(1, 4)\n",
      "\n"
     ]
    }
   ],
   "source": [
    "vector_row = np.array([[1, 2, 3, 4]])\n",
    "print(vector_row)\n",
    "print(vector_row.shape)\n",
    "print()"
   ]
  },
  {
   "cell_type": "code",
   "execution_count": 3,
   "id": "57f8524d",
   "metadata": {},
   "outputs": [
    {
     "name": "stdout",
     "output_type": "stream",
     "text": [
      "[[1]\n",
      " [2]\n",
      " [3]\n",
      " [4]]\n",
      "(4, 1)\n",
      "\n"
     ]
    }
   ],
   "source": [
    "vector_column = np.array([[1], [2], [3], [4]])\n",
    "print(vector_column)\n",
    "print(vector_column.shape)\n",
    "print()"
   ]
  },
  {
   "cell_type": "code",
   "execution_count": 4,
   "id": "083929e1",
   "metadata": {},
   "outputs": [
    {
     "name": "stdout",
     "output_type": "stream",
     "text": [
      "[[1]\n",
      " [2]\n",
      " [3]\n",
      " [4]]\n",
      "\n",
      "[[1 2 3 4]]\n",
      "\n"
     ]
    }
   ],
   "source": [
    "vector_row_transposed = vector_row.T\n",
    "print(vector_row_transposed)\n",
    "print()\n",
    "\n",
    "vector_column_transposed = vector_column.T\n",
    "print(vector_column_transposed)\n",
    "print()"
   ]
  },
  {
   "cell_type": "code",
   "execution_count": 5,
   "id": "05195503",
   "metadata": {},
   "outputs": [
    {
     "name": "stdout",
     "output_type": "stream",
     "text": [
      "4.0\n",
      "5.477225575051661\n",
      "10.0\n"
     ]
    }
   ],
   "source": [
    "# norms\n",
    "first_norm = np.linalg.norm(vector_row, 1)\n",
    "print(first_norm)\n",
    "\n",
    "second_norm = np.linalg.norm(vector_row, 2)\n",
    "print(second_norm)\n",
    "\n",
    "inf_norm = np.linalg.norm(vector_row, np.inf)\n",
    "print(inf_norm)"
   ]
  },
  {
   "cell_type": "code",
   "execution_count": 6,
   "id": "76d9c8f6",
   "metadata": {},
   "outputs": [
    {
     "name": "stdout",
     "output_type": "stream",
     "text": [
      "[[2 4 6 8]]\n",
      "\n",
      "[[6 7 8 9]]\n",
      "\n"
     ]
    }
   ],
   "source": [
    "# addition of vectors\n",
    "vector_sum = vector_row + vector_row\n",
    "print(vector_sum)\n",
    "print()\n",
    "\n",
    "scalar_sum = vector_row + 5\n",
    "print(scalar_sum)\n",
    "print()"
   ]
  },
  {
   "cell_type": "code",
   "execution_count": 7,
   "id": "7f57cada",
   "metadata": {},
   "outputs": [
    {
     "name": "stdout",
     "output_type": "stream",
     "text": [
      "[[ 3  6  9 12]]\n",
      "\n"
     ]
    }
   ],
   "source": [
    "# scalar multiplication\n",
    "scalar_multiplication = 3 * vector_row\n",
    "print(scalar_multiplication)\n",
    "print()"
   ]
  },
  {
   "cell_type": "code",
   "execution_count": 8,
   "id": "242d8f02",
   "metadata": {},
   "outputs": [
    {
     "name": "stdout",
     "output_type": "stream",
     "text": [
      "[[30]]\n",
      "\n"
     ]
    }
   ],
   "source": [
    "# dot product\n",
    "dot_product = np.dot(vector_row, vector_row.T)\n",
    "print(dot_product)\n",
    "print()"
   ]
  },
  {
   "cell_type": "code",
   "execution_count": 9,
   "id": "cff0b309",
   "metadata": {},
   "outputs": [],
   "source": [
    "v = np.array([[9, 2, 5]])\n",
    "w = np.array([[-3, 8, 2]])"
   ]
  },
  {
   "cell_type": "code",
   "execution_count": 10,
   "id": "09705793",
   "metadata": {},
   "outputs": [
    {
     "name": "stdout",
     "output_type": "stream",
     "text": [
      "[[-36 -33  78]]\n",
      "\n"
     ]
    }
   ],
   "source": [
    "# cross product\n",
    "cross_product = np.cross(v, w)\n",
    "print(cross_product)\n",
    "print()"
   ]
  },
  {
   "cell_type": "code",
   "execution_count": 11,
   "id": "59fa055c",
   "metadata": {},
   "outputs": [
    {
     "name": "stdout",
     "output_type": "stream",
     "text": [
      "[[1.58166226]]\n",
      "\n"
     ]
    }
   ],
   "source": [
    "# the angle between two vectors\n",
    "theta = np.arccos(np.dot(v, w.T) / (np.linalg.norm(v) * np.linalg.norm(w)))\n",
    "print(theta)\n",
    "print()"
   ]
  }
 ],
 "metadata": {
  "kernelspec": {
   "display_name": "Python 3 (ipykernel)",
   "language": "python",
   "name": "python3"
  },
  "language_info": {
   "codemirror_mode": {
    "name": "ipython",
    "version": 3
   },
   "file_extension": ".py",
   "mimetype": "text/x-python",
   "name": "python",
   "nbconvert_exporter": "python",
   "pygments_lexer": "ipython3",
   "version": "3.10.6"
  }
 },
 "nbformat": 4,
 "nbformat_minor": 5
}
