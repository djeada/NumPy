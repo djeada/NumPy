{
 "cells": [
  {
   "cell_type": "code",
   "execution_count": 1,
   "id": "918ea71b",
   "metadata": {},
   "outputs": [],
   "source": [
    "import numpy as np"
   ]
  },
  {
   "cell_type": "code",
   "execution_count": 2,
   "id": "64c3f48d",
   "metadata": {},
   "outputs": [
    {
     "name": "stdout",
     "output_type": "stream",
     "text": [
      "element at index 0 in array [0 1 2 3 4 5] is 0\n",
      "element at the last index in array [0 1 2 3 4 5] is 5\n",
      "elements between indices 1 and 3 in array [0 1 2 3 4 5] are [1 2 3]\n"
     ]
    }
   ],
   "source": [
    "array = np.array([0, 1, 2, 3, 4, 5])\n",
    "print(f\"element at index 0 in array {array} is {array[0]}\")\n",
    "print(f\"element at the last index in array {array} is {array[-1]}\")\n",
    "print(f\"elements between indices 1 and 3 in array {array} are {array[1:4]}\")"
   ]
  },
  {
   "cell_type": "code",
   "execution_count": 3,
   "id": "68511080",
   "metadata": {},
   "outputs": [
    {
     "name": "stdout",
     "output_type": "stream",
     "text": [
      "[0 1 2 3 4 5 6]\n",
      "\n"
     ]
    }
   ],
   "source": [
    "# use append to add an element at the end of array\n",
    "array = np.append(array, 6)\n",
    "print(array)\n",
    "print()"
   ]
  },
  {
   "cell_type": "code",
   "execution_count": 4,
   "id": "8728cedb",
   "metadata": {},
   "outputs": [
    {
     "name": "stdout",
     "output_type": "stream",
     "text": [
      "[0 1 2 8 3 4 5 6]\n",
      "\n"
     ]
    }
   ],
   "source": [
    "# use insert to insert an element at a given index\n",
    "array = np.insert(array, 3, 8)\n",
    "print(array)\n",
    "print()"
   ]
  },
  {
   "cell_type": "code",
   "execution_count": 5,
   "id": "a38b6c18",
   "metadata": {},
   "outputs": [
    {
     "name": "stdout",
     "output_type": "stream",
     "text": [
      "[0 1 7 8 3 4 5 6]\n",
      "\n"
     ]
    }
   ],
   "source": [
    "# modify a single element\n",
    "array[2] = 7\n",
    "print(array)\n",
    "print()"
   ]
  },
  {
   "cell_type": "code",
   "execution_count": 6,
   "id": "b8789cad",
   "metadata": {},
   "outputs": [
    {
     "name": "stdout",
     "output_type": "stream",
     "text": [
      "[ 0 -1 -1 -1  3  4  5  6]\n",
      "\n"
     ]
    }
   ],
   "source": [
    "# modify a number of consecutive elements\n",
    "array[1:4] = [-1, -1, -1]\n",
    "print(array)\n",
    "print()"
   ]
  },
  {
   "cell_type": "code",
   "execution_count": 7,
   "id": "7b3fc0d1",
   "metadata": {},
   "outputs": [
    {
     "name": "stdout",
     "output_type": "stream",
     "text": [
      "[2 2 2 2 4 4 5 5]\n",
      "\n"
     ]
    }
   ],
   "source": [
    "# apply an operation to all the elements\n",
    "array += 5\n",
    "array //= 2\n",
    "print(array)\n",
    "print()"
   ]
  },
  {
   "cell_type": "code",
   "execution_count": 8,
   "id": "1bcdbbad",
   "metadata": {},
   "outputs": [
    {
     "name": "stdout",
     "output_type": "stream",
     "text": [
      "[1.41421356 1.41421356 1.41421356 1.41421356 2.         2.\n",
      " 2.23606798 2.23606798]\n",
      "\n",
      "[ 0.15594369  0.15594369  0.15594369  0.15594369 -0.41614684 -0.41614684\n",
      " -0.61727288 -0.61727288]\n",
      "\n"
     ]
    }
   ],
   "source": [
    "# apply a function to all elements\n",
    "array = np.sqrt(array)\n",
    "print(array)\n",
    "print()\n",
    "\n",
    "array = np.cos(array)\n",
    "print(array)\n",
    "print()"
   ]
  },
  {
   "cell_type": "code",
   "execution_count": 9,
   "id": "c30813fb",
   "metadata": {},
   "outputs": [
    {
     "name": "stdout",
     "output_type": "stream",
     "text": [
      "[ 0.15594369  0.15594369 -0.41614684 -0.41614684 -0.61727288 -0.61727288]\n",
      "\n"
     ]
    }
   ],
   "source": [
    "# remove an element\n",
    "array = np.delete(array, (1, 3))\n",
    "print(array)\n",
    "print()"
   ]
  }
 ],
 "metadata": {
  "kernelspec": {
   "display_name": "Python 3 (ipykernel)",
   "language": "python",
   "name": "python3"
  },
  "language_info": {
   "codemirror_mode": {
    "name": "ipython",
    "version": 3
   },
   "file_extension": ".py",
   "mimetype": "text/x-python",
   "name": "python",
   "nbconvert_exporter": "python",
   "pygments_lexer": "ipython3",
   "version": "3.10.6"
  }
 },
 "nbformat": 4,
 "nbformat_minor": 5
}
