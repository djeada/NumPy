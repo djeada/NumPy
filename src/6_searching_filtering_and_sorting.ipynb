{
 "cells": [
  {
   "cell_type": "code",
   "execution_count": 1,
   "id": "96923008",
   "metadata": {},
   "outputs": [],
   "source": [
    "import numpy as np"
   ]
  },
  {
   "cell_type": "code",
   "execution_count": 2,
   "id": "a8873539",
   "metadata": {},
   "outputs": [],
   "source": [
    "array = np.array([0, 1, 2, 3, 4, 5])"
   ]
  },
  {
   "cell_type": "code",
   "execution_count": 3,
   "id": "cada67e9",
   "metadata": {},
   "outputs": [
    {
     "name": "stdout",
     "output_type": "stream",
     "text": [
      "(array([2]),)\n",
      "\n"
     ]
    }
   ],
   "source": [
    "# find a key in an array\n",
    "key = 2\n",
    "condition = array == key\n",
    "result = np.where(condition)\n",
    "print(result)\n",
    "print()"
   ]
  },
  {
   "cell_type": "code",
   "execution_count": 4,
   "id": "343b52a3",
   "metadata": {},
   "outputs": [
    {
     "name": "stdout",
     "output_type": "stream",
     "text": [
      "5\n",
      "\n",
      "0\n",
      "\n",
      "5\n",
      "5\n",
      "\n",
      "0\n",
      "0\n",
      "\n"
     ]
    }
   ],
   "source": [
    "# max, min and their indices\n",
    "print(array.max())\n",
    "print()\n",
    "\n",
    "print(array.min())\n",
    "print()\n",
    "\n",
    "indices = array.argmax()\n",
    "print(indices)\n",
    "print(array[indices])\n",
    "print()\n",
    "\n",
    "indices = array.argmin()\n",
    "print(indices)\n",
    "print(array[indices])\n",
    "print()"
   ]
  },
  {
   "cell_type": "code",
   "execution_count": 5,
   "id": "25da1c99",
   "metadata": {},
   "outputs": [
    {
     "name": "stdout",
     "output_type": "stream",
     "text": [
      "(array([2, 3]),)\n"
     ]
    }
   ],
   "source": [
    "condition = (array > 1) & (array < 4)\n",
    "indices = np.where(condition)\n",
    "print(indices)"
   ]
  },
  {
   "cell_type": "code",
   "execution_count": 15,
   "id": "70e78dce",
   "metadata": {},
   "outputs": [],
   "source": [
    "matrix = np.array([[0, 1], [9, 1], [5, 9]])"
   ]
  },
  {
   "cell_type": "code",
   "execution_count": 16,
   "id": "e87a6a2f",
   "metadata": {},
   "outputs": [
    {
     "name": "stdout",
     "output_type": "stream",
     "text": [
      "[[0 1]\n",
      " [1 1]]\n",
      "\n"
     ]
    }
   ],
   "source": [
    "# find a key in a matrix\n",
    "key = 1\n",
    "condition = matrix == key\n",
    "result = np.transpose(condition.nonzero())\n",
    "print(result)\n",
    "print()"
   ]
  },
  {
   "cell_type": "code",
   "execution_count": 17,
   "id": "2a8d8bbf",
   "metadata": {},
   "outputs": [
    {
     "name": "stdout",
     "output_type": "stream",
     "text": [
      "9\n",
      "\n",
      "0\n",
      "\n",
      "[[1 0]\n",
      " [2 1]]\n",
      "[9 9]\n",
      "\n",
      "[[0 0]]\n",
      "[0]\n",
      "\n"
     ]
    }
   ],
   "source": [
    "# max, min and their indices\n",
    "print(matrix.max())\n",
    "print()\n",
    "\n",
    "print(matrix.min())\n",
    "print()\n",
    "\n",
    "indices = (matrix == matrix.max()).nonzero()\n",
    "print(np.transpose(indices))\n",
    "print(matrix[indices])\n",
    "print()\n",
    "\n",
    "indices = (matrix == matrix.min()).nonzero()\n",
    "print(np.transpose(indices))\n",
    "print(matrix[indices])\n",
    "print()"
   ]
  },
  {
   "cell_type": "code",
   "execution_count": 9,
   "id": "b5859019",
   "metadata": {},
   "outputs": [
    {
     "name": "stdout",
     "output_type": "stream",
     "text": [
      "[0 1 5 9]\n",
      "\n"
     ]
    }
   ],
   "source": [
    "unique_values = np.unique(matrix)\n",
    "print(unique_values)\n",
    "print()"
   ]
  },
  {
   "cell_type": "code",
   "execution_count": 10,
   "id": "c6234afc",
   "metadata": {},
   "outputs": [
    {
     "name": "stdout",
     "output_type": "stream",
     "text": [
      "{0: 1, 1: 3, 5: 1, 9: 1}\n",
      "\n"
     ]
    }
   ],
   "source": [
    "unique, freq = np.unique(matrix, return_counts=True)\n",
    "histogram = dict(zip(unique, freq))\n",
    "print(histogram)\n",
    "print()"
   ]
  }
 ],
 "metadata": {
  "kernelspec": {
   "display_name": "Python 3 (ipykernel)",
   "language": "python",
   "name": "python3"
  },
  "language_info": {
   "codemirror_mode": {
    "name": "ipython",
    "version": 3
   },
   "file_extension": ".py",
   "mimetype": "text/x-python",
   "name": "python",
   "nbconvert_exporter": "python",
   "pygments_lexer": "ipython3",
   "version": "3.10.6"
  }
 },
 "nbformat": 4,
 "nbformat_minor": 5
}
