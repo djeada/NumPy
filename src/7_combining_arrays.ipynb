{
 "cells": [
  {
   "cell_type": "code",
   "execution_count": 1,
   "id": "6f728a3a",
   "metadata": {},
   "outputs": [],
   "source": [
    "import numpy as np"
   ]
  },
  {
   "cell_type": "code",
   "execution_count": 2,
   "id": "71a2a10a",
   "metadata": {},
   "outputs": [],
   "source": [
    "array_a = np.array([0, 1, 2])\n",
    "array_b = np.array([4, 5, 6])"
   ]
  },
  {
   "cell_type": "code",
   "execution_count": 3,
   "id": "330b8ed1",
   "metadata": {},
   "outputs": [
    {
     "name": "stdout",
     "output_type": "stream",
     "text": [
      "[0 1 2 4 5 6]\n",
      "\n"
     ]
    }
   ],
   "source": [
    "result = np.concatenate((array_a, array_b))\n",
    "print(result)\n",
    "print()"
   ]
  },
  {
   "cell_type": "code",
   "execution_count": 4,
   "id": "f12bed7f",
   "metadata": {},
   "outputs": [
    {
     "name": "stdout",
     "output_type": "stream",
     "text": [
      "[[0 1 2]\n",
      " [4 5 6]]\n",
      "\n",
      "[0 1 2 4 5 6]\n",
      "\n"
     ]
    }
   ],
   "source": [
    "result = np.vstack((array_a, array_b))\n",
    "print(result)\n",
    "print()\n",
    "\n",
    "result = np.hstack((array_a, array_b))\n",
    "print(result)\n",
    "print()"
   ]
  },
  {
   "cell_type": "code",
   "execution_count": 5,
   "id": "3f068db4",
   "metadata": {},
   "outputs": [
    {
     "name": "stdout",
     "output_type": "stream",
     "text": [
      "[0 1]\n",
      "\n",
      "[2 4]\n",
      "\n",
      "[5 6]\n",
      "\n"
     ]
    }
   ],
   "source": [
    "connected = np.concatenate((array_a, array_b))\n",
    "result = np.split(connected, 3)\n",
    "\n",
    "for array in result:\n",
    "    print(array)\n",
    "    print()"
   ]
  },
  {
   "cell_type": "code",
   "execution_count": 6,
   "id": "63ac7610",
   "metadata": {},
   "outputs": [],
   "source": [
    "matrix_a = np.array([[0, 1], [2, 3]])\n",
    "matrix_b = np.array([[4, 5], [6, 4]])"
   ]
  },
  {
   "cell_type": "code",
   "execution_count": 7,
   "id": "6f9889a6",
   "metadata": {},
   "outputs": [
    {
     "name": "stdout",
     "output_type": "stream",
     "text": [
      "[[0 1]\n",
      " [2 3]\n",
      " [4 5]\n",
      " [6 4]]\n",
      "\n"
     ]
    }
   ],
   "source": [
    "result = np.concatenate((matrix_a, matrix_b))\n",
    "print(result)\n",
    "print()"
   ]
  },
  {
   "cell_type": "code",
   "execution_count": 8,
   "id": "e74b520e",
   "metadata": {},
   "outputs": [
    {
     "name": "stdout",
     "output_type": "stream",
     "text": [
      "[[0 1]\n",
      " [2 3]\n",
      " [4 5]\n",
      " [6 4]]\n",
      "\n",
      "[[0 1 4 5]\n",
      " [2 3 6 4]]\n",
      "\n"
     ]
    }
   ],
   "source": [
    "result = np.vstack((matrix_a, matrix_b))\n",
    "print(result)\n",
    "print()\n",
    "\n",
    "result = np.hstack((matrix_a, matrix_b))\n",
    "print(result)\n",
    "print()"
   ]
  },
  {
   "cell_type": "code",
   "execution_count": 9,
   "id": "04371f3b",
   "metadata": {},
   "outputs": [
    {
     "name": "stdout",
     "output_type": "stream",
     "text": [
      "[[0 1]]\n",
      "\n",
      "[[2 3]]\n",
      "\n",
      "[[4 5]]\n",
      "\n",
      "[[6 4]]\n",
      "\n"
     ]
    }
   ],
   "source": [
    "connected = np.concatenate((matrix_a, matrix_b))\n",
    "result = np.split(connected, 4)\n",
    "\n",
    "for array in result:\n",
    "    print(array)\n",
    "    print()"
   ]
  }
 ],
 "metadata": {
  "kernelspec": {
   "display_name": "Python 3 (ipykernel)",
   "language": "python",
   "name": "python3"
  },
  "language_info": {
   "codemirror_mode": {
    "name": "ipython",
    "version": 3
   },
   "file_extension": ".py",
   "mimetype": "text/x-python",
   "name": "python",
   "nbconvert_exporter": "python",
   "pygments_lexer": "ipython3",
   "version": "3.10.6"
  }
 },
 "nbformat": 4,
 "nbformat_minor": 5
}
